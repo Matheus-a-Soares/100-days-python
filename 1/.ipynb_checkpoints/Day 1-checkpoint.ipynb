{
 "cells": [
  {
   "cell_type": "markdown",
   "id": "630c2778",
   "metadata": {},
   "source": [
    "# Day 1\n",
    "## Working with variables in Python to Manage Data\n",
    "### Exercise 1 - Printing\n",
    "\n",
    "Write a program in main.py that prints the same notes from the previous lesson using what you have learnt about the Python print function.\n"
   ]
  },
  {
   "cell_type": "code",
   "execution_count": 6,
   "id": "cff892ef",
   "metadata": {},
   "outputs": [
    {
     "name": "stdout",
     "output_type": "stream",
     "text": [
      "Day 1 - Python Print Function\n",
      "The function is declared like this:\n",
      "print('what to print')\n"
     ]
    }
   ],
   "source": [
    "print(\"Day 1 - Python Print Function\\nThe function is declared like this:\\nprint('what to print')\")"
   ]
  },
  {
   "cell_type": "markdown",
   "id": "8a789ee9",
   "metadata": {},
   "source": [
    "###  Exercise 2 - Debugging Practice \n",
    "Look at the code in the code editor on the right. There are errors in all of the lines of code. Fix the code so that it runs without errors."
   ]
  },
  {
   "cell_type": "code",
   "execution_count": 7,
   "id": "51aa8fef",
   "metadata": {},
   "outputs": [
    {
     "name": "stdout",
     "output_type": "stream",
     "text": [
      "Day 1 - String Manipulation\n",
      "String Concatenation is done with the \"+\" sign.\n",
      "e.g. print(\"Hello \" + \"world\")\n",
      "New lines can be created with a backslash and n.\n"
     ]
    }
   ],
   "source": [
    "#Fix the code below 👇\n",
    "\n",
    "# print(Day 1 - String Manipulation\")\n",
    "# print(\"String Concatenation is done with the \"+\" sign.\")\n",
    "#   print('e.g. print(\"Hello \" + \"world\")')\n",
    "# print((\"New lines can be created with a backslash and n.\")\n",
    "\n",
    "print(\"Day 1 - String Manipulation\")\n",
    "print('String Concatenation is done with the \"+\" sign.')\n",
    "print('e.g. print(\"Hello \" + \"world\")')\n",
    "print(\"New lines can be created with a backslash and n.\")"
   ]
  },
  {
   "cell_type": "markdown",
   "id": "b0e931f3",
   "metadata": {},
   "source": [
    "###  Exercise 3 - Input Function\n",
    "Write a program that prints the number of characters in a user's name. You might need to Google for a function that calculates the length of a string.\n",
    "\n",
    "e.g.\n",
    "\n",
    "https://www.google.com/search?q=how+to+get+the+length+of+a+string+in+python+stack+overflow"
   ]
  },
  {
   "cell_type": "code",
   "execution_count": 8,
   "id": "47c5252f",
   "metadata": {
    "scrolled": true
   },
   "outputs": [
    {
     "name": "stdout",
     "output_type": "stream",
     "text": [
      "What is your name?Matheus\n",
      "7\n"
     ]
    }
   ],
   "source": [
    "#Write your code below this line 👇\n",
    "print (len ( input(\"What is your name?\")))\n"
   ]
  },
  {
   "cell_type": "markdown",
   "id": "c78c629d",
   "metadata": {},
   "source": [
    "###  Exercise 4 - Variables\n",
    "Write a program that switches the values stored in the variables a and b."
   ]
  },
  {
   "cell_type": "code",
   "execution_count": 11,
   "id": "00ba9c57",
   "metadata": {},
   "outputs": [
    {
     "name": "stdout",
     "output_type": "stream",
     "text": [
      "a: 3\n",
      "b: 5\n",
      "a: 5\n",
      "b: 3\n"
     ]
    }
   ],
   "source": [
    "# 🚨 Don't change the code below 👇\n",
    "a = input(\"a: \")\n",
    "b = input(\"b: \")\n",
    "# 🚨 Don't change the code above 👆\n",
    "\n",
    "####################################\n",
    "#Write your code below this line 👇\n",
    "\n",
    "temp=a\n",
    "a=b\n",
    "b=temp\n",
    "\n",
    "#Write your code above this line 👆\n",
    "####################################\n",
    "\n",
    "# 🚨 Don't change the code below 👇\n",
    "print(\"a: \" + a)\n",
    "print(\"b: \" + b)\n"
   ]
  },
  {
   "cell_type": "markdown",
   "id": "4a9cb1dc",
   "metadata": {},
   "source": [
    "## Day 1 Project\n",
    "### Band Name Generator"
   ]
  },
  {
   "cell_type": "code",
   "execution_count": 13,
   "id": "ad7c8aa1",
   "metadata": {},
   "outputs": [
    {
     "name": "stdout",
     "output_type": "stream",
     "text": [
      "Welcome to the Band Name Generator\n",
      "What is the name of the city that you grew up in?\n",
      "Marco\n",
      "What is the name of a pet?\n",
      "Gato\n",
      " Your band name is Gato Marco!\n"
     ]
    }
   ],
   "source": [
    "# 1 - Create a greeting for your program\n",
    "# 2 - Ask the user for the city that they grew up in\n",
    "# 3 - Ask the user for a name of a pet\n",
    "# 4 - Combine the name of the city and pet and show them their band name\n",
    "# 5 - Make sure the input cursor shows on a new line \n",
    "\n",
    "print(\"Welcome to the Band Name Generator\")\n",
    "city_name =input(\"What is the name of the city that you grew up in?\\n\")\n",
    "pet_name =input(\"What is the name of a pet?\\n\")\n",
    "\n",
    "print(\"Your band name is \"+pet_name+\" \"+city_name+\"!\")"
   ]
  }
 ],
 "metadata": {
  "kernelspec": {
   "display_name": "Python 3 (ipykernel)",
   "language": "python",
   "name": "python3"
  },
  "language_info": {
   "codemirror_mode": {
    "name": "ipython",
    "version": 3
   },
   "file_extension": ".py",
   "mimetype": "text/x-python",
   "name": "python",
   "nbconvert_exporter": "python",
   "pygments_lexer": "ipython3",
   "version": "3.9.12"
  }
 },
 "nbformat": 4,
 "nbformat_minor": 5
}

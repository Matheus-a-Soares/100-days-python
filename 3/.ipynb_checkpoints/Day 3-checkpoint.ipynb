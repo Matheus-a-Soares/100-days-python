{
 "cells": [
  {
   "cell_type": "markdown",
   "id": "630c2778",
   "metadata": {},
   "source": [
    "# Day 3\n",
    "## Understanding Data Types and How to Manipulate Strings\n",
    "### Exercise 1 - Data Types\n",
    "Write a program that adds the digits in a 2 digit number. e.g. if the input was 35, then the output should be 3 + 5 = 8\n",
    "\n",
    "Warning. Do not change the code on lines 1-3. Your program should work for different inputs. e.g. any two-digit number."
   ]
  },
  {
   "cell_type": "code",
   "execution_count": 2,
   "id": "cff892ef",
   "metadata": {},
   "outputs": [
    {
     "name": "stdout",
     "output_type": "stream",
     "text": [
      "Type a two digit number: 59\n",
      "14\n"
     ]
    }
   ],
   "source": [
    "# 🚨 Don't change the code below 👇\n",
    "two_digit_number = input(\"Type a two digit number: \")\n",
    "# 🚨 Don't change the code above 👆\n",
    "\n",
    "####################################\n",
    "#Write your code below this line 👇\n",
    "two_digit_number_list=list(two_digit_number)\n",
    "\n",
    "for i in range(0, len(two_digit_number_list)):\n",
    "    two_digit_number_list[i] = int(two_digit_number_list[i])\n",
    "\n",
    "print(sum(two_digit_number_list))"
   ]
  },
  {
   "cell_type": "markdown",
   "id": "8a789ee9",
   "metadata": {},
   "source": [
    "###  Exercise 2 - BMI Calculator \n",
    "Write a program that calculates the Body Mass Index (BMI) from a user's weight and height.\n",
    "\n",
    "The BMI is a measure of some's weight taking into account their height. e.g. If a tall person and a short person both weigh the same amount, the short person is usually more overweight.\n",
    "\n",
    "The BMI is calculated by dividing a person's weight (in kg) by the square of their height (in m):"
   ]
  },
  {
   "cell_type": "markdown",
   "id": "f718056b",
   "metadata": {},
   "source": [
    "# $ BMI = \\frac {Weight}{ Height ^ 2 }$"
   ]
  },
  {
   "cell_type": "code",
   "execution_count": 3,
   "id": "51aa8fef",
   "metadata": {},
   "outputs": [
    {
     "name": "stdout",
     "output_type": "stream",
     "text": [
      "enter your height in m: 1.75\n",
      "enter your weight in kg: 80\n",
      "26\n"
     ]
    }
   ],
   "source": [
    "# 🚨 Don't change the code below 👇\n",
    "height = input(\"enter your height in m: \")\n",
    "weight = input(\"enter your weight in kg: \")\n",
    "# 🚨 Don't change the code above 👆\n",
    "\n",
    "#Write your code below this line 👇\n",
    "bmi=float(weight)/(float(height)**2)\n",
    "\n",
    "print(int(bmi))"
   ]
  },
  {
   "cell_type": "markdown",
   "id": "b0e931f3",
   "metadata": {},
   "source": [
    "###  Exercise 3 - Life in Weeks\n",
    "I was reading this article by Tim Urban - Your Life in Weeks and realised just how little time we actually have.\n",
    "\n",
    "https://waitbutwhy.com/2014/05/life-weeks.html\n",
    "\n",
    "Create a program using maths and f-Strings that tells us how many days, weeks, months we have left if we live until 90 years old.\n",
    "\n",
    "It will take your current age as the input and output a message with our time left in this format:\n",
    "\n",
    "You have x days, y weeks, and z months left.\n",
    "\n",
    "Where x, y and z are replaced with the actual calculated numbers.\n",
    "\n",
    "Warning your output should match the Example Output format exactly, even the positions of the commas and full stops."
   ]
  },
  {
   "cell_type": "code",
   "execution_count": 4,
   "id": "47c5252f",
   "metadata": {},
   "outputs": [
    {
     "name": "stdout",
     "output_type": "stream",
     "text": [
      "What is your current age?56\n",
      "You have 12410 days, 1768 weeks, and 408 months left.\n"
     ]
    }
   ],
   "source": [
    "# 🚨 Don't change the code below 👇\n",
    "age = input(\"What is your current age?\")\n",
    "# 🚨 Don't change the code above 👆\n",
    "\n",
    "#Write your code below this line 👇\n",
    "left=90-int(age)\n",
    "\n",
    "print (\"You have\",left*365,\"days,\",left*52,\"weeks, and\",left*12,\"months left.\")"
   ]
  },
  {
   "cell_type": "markdown",
   "id": "640a1a69",
   "metadata": {},
   "source": [
    "#### _or this other way if you want to save the results as variables and use f-string_"
   ]
  },
  {
   "cell_type": "code",
   "execution_count": 12,
   "id": "55b66e50",
   "metadata": {},
   "outputs": [
    {
     "name": "stdout",
     "output_type": "stream",
     "text": [
      "What is your current age?56\n",
      "You have 12410 days, 1768 weeks, and 408 months left.\n"
     ]
    }
   ],
   "source": [
    "# 🚨 Don't change the code below 👇\n",
    "age = input(\"What is your current age?\")\n",
    "# 🚨 Don't change the code above 👆\n",
    "\n",
    "#Write your code below this line 👇\n",
    "left=90-int(age)\n",
    "days=str(left*365)\n",
    "weeks=str(left*52)\n",
    "months=str(left*12)\n",
    "\n",
    "#f-string\n",
    "print (f\"You have {days} days, {weeks} weeks, and {months} months left.\")"
   ]
  },
  {
   "cell_type": "markdown",
   "id": "4a9cb1dc",
   "metadata": {},
   "source": [
    "## Day 2 Project\n",
    "### Tip Calculator"
   ]
  },
  {
   "cell_type": "code",
   "execution_count": 22,
   "id": "ad7c8aa1",
   "metadata": {},
   "outputs": [
    {
     "name": "stdout",
     "output_type": "stream",
     "text": [
      "Welcome to the tip calculator!\n",
      "What was the total bill? $150\n",
      "What percentage tip would you like to give? 10,12 or 15? 12\n",
      "How many peopole to split the bill? 5\n",
      "Each person should pay: $33.60\n"
     ]
    }
   ],
   "source": [
    "#if the bill was $150.00, split between 5 people with 12% tip.\n",
    "#Each person should pay (150.00 / 5) * 1.12\n",
    "#Round the result to 2 decimal places = 33.60\n",
    "\n",
    "print(\"Welcome to the tip calculator!\")\n",
    "total=float(input(\"What was the total bill? $\"))\n",
    "percentage=int(input(\"What percentage tip would you like to give? 10,12 or 15? \"))\n",
    "n_people=int(input(\"How many peopole to split the bill? \"))\n",
    "\n",
    "total = total + (total*(percentage/100))\n",
    "pay_value=total/n_people\n",
    "\n",
    "# '%.2f' to describe float precision or round(pay_value,2)\n",
    "print(f\"Each person should pay: ${'%.2f'%pay_value}\")"
   ]
  },
  {
   "cell_type": "code",
   "execution_count": null,
   "id": "1ff0bbfd",
   "metadata": {},
   "outputs": [],
   "source": []
  }
 ],
 "metadata": {
  "kernelspec": {
   "display_name": "Python 3 (ipykernel)",
   "language": "python",
   "name": "python3"
  },
  "language_info": {
   "codemirror_mode": {
    "name": "ipython",
    "version": 3
   },
   "file_extension": ".py",
   "mimetype": "text/x-python",
   "name": "python",
   "nbconvert_exporter": "python",
   "pygments_lexer": "ipython3",
   "version": "3.9.12"
  }
 },
 "nbformat": 4,
 "nbformat_minor": 5
}
